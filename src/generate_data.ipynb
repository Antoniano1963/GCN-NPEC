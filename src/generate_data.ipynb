{
 "cells": [
  {
   "cell_type": "code",
   "execution_count": 3,
   "metadata": {},
   "outputs": [],
   "source": [
    "import numpy as np"
   ]
  },
  {
   "cell_type": "code",
   "execution_count": 4,
   "metadata": {},
   "outputs": [],
   "source": [
    "g20_train = np.load('G-20-training.npz')"
   ]
  },
  {
   "cell_type": "code",
   "execution_count": 11,
   "metadata": {},
   "outputs": [],
   "source": [
    "nodes = g20_train['graph']\n",
    "depot_xy = nodes[0:10240, 0, :]\n",
    "customer_xy = nodes[0:10240, 1:21, :]\n",
    "demand = g20_train['demand'][0:10240:, 1:21]\n",
    "dist = g20_train['dis'][0:10240]"
   ]
  },
  {
   "cell_type": "code",
   "execution_count": 12,
   "metadata": {},
   "outputs": [
    {
     "data": {
      "text/plain": [
       "((10240, 2), (10240, 20, 2), (10240, 20), (10240, 21, 21))"
      ]
     },
     "execution_count": 12,
     "metadata": {},
     "output_type": "execute_result"
    }
   ],
   "source": [
    "depot_xy.shape, customer_xy.shape, demand.shape, dist.shape"
   ]
  },
  {
   "cell_type": "code",
   "execution_count": 16,
   "metadata": {},
   "outputs": [],
   "source": [
    "graph = np.random.rand(10240, 21, 2)"
   ]
  },
  {
   "cell_type": "code",
   "execution_count": 35,
   "metadata": {},
   "outputs": [],
   "source": [
    "import torch\n",
    "import math"
   ]
  },
  {
   "cell_type": "code",
   "execution_count": 36,
   "metadata": {},
   "outputs": [],
   "source": [
    "def get_dist(n1, n2):\n",
    "\tx1,y1,x2,y2 = n1[0],n1[1],n2[0],n2[1]\n",
    "\tif isinstance(n1, torch.Tensor):\n",
    "\t\treturn torch.sqrt((x2-x1).pow(2)+(y2-y1).pow(2))\n",
    "\telif isinstance(n1, (list, np.ndarray)):\n",
    "\t\treturn math.sqrt(pow(x2-x1,2)+pow(y2-y1,2))\n",
    "\telse:\n",
    "\t\traise TypeError\n",
    "\n",
    "def get_dist_matrix(points, digit = 2):\n",
    "\tn = len(points)\n",
    "\tdist = [[0 for i in range(n)] for i in range(n)]\n",
    "\tfor i in range(n):\n",
    "\t\tfor j in range(i, n):\n",
    "\t\t\ttwo = get_dist(points[i], points[j])\n",
    "\t\t\tdist[i][j] = dist[j][i] = round(float(two), digit)\n",
    "\treturn dist"
   ]
  },
  {
   "cell_type": "code",
   "execution_count": 37,
   "metadata": {},
   "outputs": [],
   "source": [
    "dist = np.zeros((10240, 21, 21))"
   ]
  },
  {
   "cell_type": "code",
   "execution_count": 38,
   "metadata": {},
   "outputs": [
    {
     "data": {
      "text/plain": [
       "(10240, 21, 21)"
      ]
     },
     "execution_count": 38,
     "metadata": {},
     "output_type": "execute_result"
    }
   ],
   "source": [
    "dist.shape"
   ]
  },
  {
   "cell_type": "code",
   "execution_count": 39,
   "metadata": {},
   "outputs": [],
   "source": [
    "for i in range(10240):\n",
    "    for j in range(21):\n",
    "        for k in range(21):\n",
    "            dist[i][j][k] = get_dist(graph[i][j], graph[i][k])"
   ]
  },
  {
   "cell_type": "code",
   "execution_count": 46,
   "metadata": {},
   "outputs": [],
   "source": [
    "demand = np.random.rand(10240, 20)"
   ]
  },
  {
   "cell_type": "code",
   "execution_count": 47,
   "metadata": {},
   "outputs": [],
   "source": [
    "hh = np.zeros((10240,1))"
   ]
  },
  {
   "cell_type": "code",
   "execution_count": 48,
   "metadata": {},
   "outputs": [],
   "source": [
    "demand = np.concatenate((hh,demand), axis=1)"
   ]
  },
  {
   "cell_type": "code",
   "execution_count": 49,
   "metadata": {},
   "outputs": [
    {
     "data": {
      "text/plain": [
       "array([[0.        , 0.18382626, 0.29009894, ..., 0.12944824, 0.36453885,\n",
       "        0.34968089],\n",
       "       [0.        , 0.34330457, 0.9600592 , ..., 0.14711699, 0.98726856,\n",
       "        0.32086101],\n",
       "       [0.        , 0.44485525, 0.57746942, ..., 0.89797292, 0.88173399,\n",
       "        0.99291112],\n",
       "       ...,\n",
       "       [0.        , 0.85267069, 0.79961584, ..., 0.60410113, 0.25587607,\n",
       "        0.26631991],\n",
       "       [0.        , 0.08026369, 0.69610797, ..., 0.27869952, 0.75796993,\n",
       "        0.07956417],\n",
       "       [0.        , 0.89690823, 0.14999214, ..., 0.18558166, 0.41566402,\n",
       "        0.89341042]])"
      ]
     },
     "execution_count": 49,
     "metadata": {},
     "output_type": "execute_result"
    }
   ],
   "source": [
    "demand"
   ]
  },
  {
   "cell_type": "code",
   "execution_count": 51,
   "metadata": {},
   "outputs": [],
   "source": [
    "np.savez('My-20-training.npz', graph=graph, demand=demand, dis=dist)"
   ]
  }
 ],
 "metadata": {
  "kernelspec": {
   "display_name": "Python 3",
   "language": "python",
   "name": "python3"
  },
  "language_info": {
   "codemirror_mode": {
    "name": "ipython",
    "version": 3
   },
   "file_extension": ".py",
   "mimetype": "text/x-python",
   "name": "python",
   "nbconvert_exporter": "python",
   "pygments_lexer": "ipython3",
   "version": "3.6.5"
  }
 },
 "nbformat": 4,
 "nbformat_minor": 4
}
